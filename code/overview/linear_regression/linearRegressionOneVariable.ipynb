{
  "nbformat": 4,
  "nbformat_minor": 0,
  "metadata": {
    "colab": {
      "name": "linearRegressionOneVariable",
      "provenance": [],
      "collapsed_sections": []
    },
    "kernelspec": {
      "name": "python3",
      "display_name": "Python 3"
    }
  },
  "cells": [
    {
      "cell_type": "code",
      "metadata": {
        "id": "Yh0AtXXOXVuD",
        "colab_type": "code",
        "colab": {}
      },
      "source": [
        "from __future__ import absolute_import, division, print_function, unicode_literals\n",
        "\n",
        "import pathlib\n",
        "\n",
        "import matplotlib.pyplot as plt\n",
        "import numpy as np\n",
        "import pandas as pd\n",
        "import seaborn as sns"
      ],
      "execution_count": 0,
      "outputs": []
    },
    {
      "cell_type": "code",
      "metadata": {
        "id": "zP5cGu1RWLxw",
        "colab_type": "code",
        "outputId": "d8a99926-fd85-4614-97be-8ef55a4c566b",
        "colab": {
          "base_uri": "https://localhost:8080/",
          "height": 51
        }
      },
      "source": [
        "try:\n",
        "  # %tensorflow_version only exists in Colab.\n",
        "  %tensorflow_version 2.x\n",
        "except Exception:\n",
        "  pass\n",
        "import tensorflow as tf\n",
        "from tensorflow import keras\n",
        "from tensorflow.keras import layers\n",
        "print(tf.__version__)"
      ],
      "execution_count": 2,
      "outputs": [
        {
          "output_type": "stream",
          "text": [
            "TensorFlow 2.x selected.\n",
            "2.1.0\n"
          ],
          "name": "stdout"
        }
      ]
    },
    {
      "cell_type": "code",
      "metadata": {
        "id": "M8TJM82UX7su",
        "colab_type": "code",
        "outputId": "956c765e-6983-4d62-f24d-204294c7aa11",
        "colab": {
          "base_uri": "https://localhost:8080/",
          "height": 275
        }
      },
      "source": [
        "# Import functions from tensorflow_docs after installing it\n",
        "!pip install git+https://github.com/tensorflow/docs\n",
        "import tensorflow_docs as tfdocs\n",
        "import tensorflow_docs.plots\n",
        "import tensorflow_docs.modeling"
      ],
      "execution_count": 3,
      "outputs": [
        {
          "output_type": "stream",
          "text": [
            "Collecting git+https://github.com/tensorflow/docs\n",
            "  Cloning https://github.com/tensorflow/docs to /tmp/pip-req-build-uc76o1pn\n",
            "  Running command git clone -q https://github.com/tensorflow/docs /tmp/pip-req-build-uc76o1pn\n",
            "Requirement already satisfied (use --upgrade to upgrade): tensorflow-docs==0.0.0 from git+https://github.com/tensorflow/docs in /usr/local/lib/python3.6/dist-packages\n",
            "Requirement already satisfied: astor in /tensorflow-2.1.0/python3.6 (from tensorflow-docs==0.0.0) (0.8.1)\n",
            "Requirement already satisfied: absl-py in /tensorflow-2.1.0/python3.6 (from tensorflow-docs==0.0.0) (0.9.0)\n",
            "Requirement already satisfied: six in /tensorflow-2.1.0/python3.6 (from tensorflow-docs==0.0.0) (1.14.0)\n",
            "Requirement already satisfied: pathlib2 in /usr/local/lib/python3.6/dist-packages (from tensorflow-docs==0.0.0) (2.3.5)\n",
            "Requirement already satisfied: pyyaml in /usr/local/lib/python3.6/dist-packages (from tensorflow-docs==0.0.0) (3.13)\n",
            "Building wheels for collected packages: tensorflow-docs\n",
            "  Building wheel for tensorflow-docs (setup.py) ... \u001b[?25l\u001b[?25hdone\n",
            "  Created wheel for tensorflow-docs: filename=tensorflow_docs-0.0.0-cp36-none-any.whl size=80412 sha256=9e7d622d72db98dc198d3eaff7f0e747d73a05fd73b53146157c35bbddd7cc64\n",
            "  Stored in directory: /tmp/pip-ephem-wheel-cache-u8fhpd6u/wheels/eb/1b/35/fce87697be00d2fc63e0b4b395b0d9c7e391a10e98d9a0d97f\n",
            "Successfully built tensorflow-docs\n"
          ],
          "name": "stdout"
        }
      ]
    },
    {
      "cell_type": "code",
      "metadata": {
        "id": "3bAedq0NWThz",
        "colab_type": "code",
        "colab": {}
      },
      "source": [
        "# Download the daset with keras.utils.get_file\n",
        "dataset_path = keras.utils.get_file(\"housing.data\", \"https://archive.ics.uci.edu/ml/machine-learning-databases/housing/housing.data\")"
      ],
      "execution_count": 0,
      "outputs": []
    },
    {
      "cell_type": "markdown",
      "metadata": {
        "id": "CTetrCMSca0w",
        "colab_type": "text"
      },
      "source": [
        "## Boston house prices dataset\n",
        "\n",
        "#### Characteristics\n",
        "* Number of Instances: 506\n",
        "* The first 13 features are numeric/categorical predictive features. \n",
        "* The last one (attribute 14): Median Value is the target variable.\n",
        "\n",
        "#### Attributes\n",
        "\n",
        "1. CRIM per capita crime rate by town\n",
        "2. ZN proportion of residential land zoned for lots over 25,000 sq.ft.\n",
        "3. INDUS proportion of non-retail business acres per town\n",
        "4. CHAS Charles River dummy variable (= 1 if tract bounds river; 0 otherwise)\n",
        "5. NOX nitric oxides concentration (parts per 10 million)\n",
        "6. RM average number of rooms per dwelling\n",
        "7. AGE proportion of owner-occupied units built prior to 1940\n",
        "8. DIS weighted distances to five Boston employment centres\n",
        "9. RAD index of accessibility to radial highways\n",
        "10. TAX full-value property-tax rate per \\$10,000\n",
        "11. PTRATIO pupil-teacher ratio by town\n",
        "12. B 1000(Bk - 0.63)^2 where Bk is the proportion of blacks by town\n",
        "13. LSTAT \\% lower status of the population\n",
        "14. MEDV Median value of owner-occupied homes in \\$1000’s [target attribute]"
      ]
    },
    {
      "cell_type": "code",
      "metadata": {
        "id": "U3Pv_Om-WwHN",
        "colab_type": "code",
        "outputId": "351ce6a4-b542-4ba0-f482-3398e1bc3d24",
        "colab": {
          "base_uri": "https://localhost:8080/",
          "height": 359
        }
      },
      "source": [
        "column_names = ['CRIM','ZN','INDUS','CHAS','NOX',\n",
        "                'RM', 'AGE', 'DIS','RAD','TAX','PTRATION', 'B', 'LSTAT', 'MEDV']\n",
        "raw_dataset = pd.read_csv(dataset_path, names=column_names,\n",
        "                      na_values = \"?\", comment='\\t',\n",
        "                      sep=\" \", skipinitialspace=True)\n",
        "# Create a dataset instant\n",
        "dataset = raw_dataset.copy()\n",
        "\n",
        "# This function returns last n rows from the object \n",
        "# based on position.\n",
        "dataset.tail(n=10)"
      ],
      "execution_count": 5,
      "outputs": [
        {
          "output_type": "execute_result",
          "data": {
            "text/html": [
              "<div>\n",
              "<style scoped>\n",
              "    .dataframe tbody tr th:only-of-type {\n",
              "        vertical-align: middle;\n",
              "    }\n",
              "\n",
              "    .dataframe tbody tr th {\n",
              "        vertical-align: top;\n",
              "    }\n",
              "\n",
              "    .dataframe thead th {\n",
              "        text-align: right;\n",
              "    }\n",
              "</style>\n",
              "<table border=\"1\" class=\"dataframe\">\n",
              "  <thead>\n",
              "    <tr style=\"text-align: right;\">\n",
              "      <th></th>\n",
              "      <th>CRIM</th>\n",
              "      <th>ZN</th>\n",
              "      <th>INDUS</th>\n",
              "      <th>CHAS</th>\n",
              "      <th>NOX</th>\n",
              "      <th>RM</th>\n",
              "      <th>AGE</th>\n",
              "      <th>DIS</th>\n",
              "      <th>RAD</th>\n",
              "      <th>TAX</th>\n",
              "      <th>PTRATION</th>\n",
              "      <th>B</th>\n",
              "      <th>LSTAT</th>\n",
              "      <th>MEDV</th>\n",
              "    </tr>\n",
              "  </thead>\n",
              "  <tbody>\n",
              "    <tr>\n",
              "      <th>496</th>\n",
              "      <td>0.28960</td>\n",
              "      <td>0.0</td>\n",
              "      <td>9.69</td>\n",
              "      <td>0</td>\n",
              "      <td>0.585</td>\n",
              "      <td>5.390</td>\n",
              "      <td>72.9</td>\n",
              "      <td>2.7986</td>\n",
              "      <td>6</td>\n",
              "      <td>391.0</td>\n",
              "      <td>19.2</td>\n",
              "      <td>396.90</td>\n",
              "      <td>21.14</td>\n",
              "      <td>19.7</td>\n",
              "    </tr>\n",
              "    <tr>\n",
              "      <th>497</th>\n",
              "      <td>0.26838</td>\n",
              "      <td>0.0</td>\n",
              "      <td>9.69</td>\n",
              "      <td>0</td>\n",
              "      <td>0.585</td>\n",
              "      <td>5.794</td>\n",
              "      <td>70.6</td>\n",
              "      <td>2.8927</td>\n",
              "      <td>6</td>\n",
              "      <td>391.0</td>\n",
              "      <td>19.2</td>\n",
              "      <td>396.90</td>\n",
              "      <td>14.10</td>\n",
              "      <td>18.3</td>\n",
              "    </tr>\n",
              "    <tr>\n",
              "      <th>498</th>\n",
              "      <td>0.23912</td>\n",
              "      <td>0.0</td>\n",
              "      <td>9.69</td>\n",
              "      <td>0</td>\n",
              "      <td>0.585</td>\n",
              "      <td>6.019</td>\n",
              "      <td>65.3</td>\n",
              "      <td>2.4091</td>\n",
              "      <td>6</td>\n",
              "      <td>391.0</td>\n",
              "      <td>19.2</td>\n",
              "      <td>396.90</td>\n",
              "      <td>12.92</td>\n",
              "      <td>21.2</td>\n",
              "    </tr>\n",
              "    <tr>\n",
              "      <th>499</th>\n",
              "      <td>0.17783</td>\n",
              "      <td>0.0</td>\n",
              "      <td>9.69</td>\n",
              "      <td>0</td>\n",
              "      <td>0.585</td>\n",
              "      <td>5.569</td>\n",
              "      <td>73.5</td>\n",
              "      <td>2.3999</td>\n",
              "      <td>6</td>\n",
              "      <td>391.0</td>\n",
              "      <td>19.2</td>\n",
              "      <td>395.77</td>\n",
              "      <td>15.10</td>\n",
              "      <td>17.5</td>\n",
              "    </tr>\n",
              "    <tr>\n",
              "      <th>500</th>\n",
              "      <td>0.22438</td>\n",
              "      <td>0.0</td>\n",
              "      <td>9.69</td>\n",
              "      <td>0</td>\n",
              "      <td>0.585</td>\n",
              "      <td>6.027</td>\n",
              "      <td>79.7</td>\n",
              "      <td>2.4982</td>\n",
              "      <td>6</td>\n",
              "      <td>391.0</td>\n",
              "      <td>19.2</td>\n",
              "      <td>396.90</td>\n",
              "      <td>14.33</td>\n",
              "      <td>16.8</td>\n",
              "    </tr>\n",
              "    <tr>\n",
              "      <th>501</th>\n",
              "      <td>0.06263</td>\n",
              "      <td>0.0</td>\n",
              "      <td>11.93</td>\n",
              "      <td>0</td>\n",
              "      <td>0.573</td>\n",
              "      <td>6.593</td>\n",
              "      <td>69.1</td>\n",
              "      <td>2.4786</td>\n",
              "      <td>1</td>\n",
              "      <td>273.0</td>\n",
              "      <td>21.0</td>\n",
              "      <td>391.99</td>\n",
              "      <td>9.67</td>\n",
              "      <td>22.4</td>\n",
              "    </tr>\n",
              "    <tr>\n",
              "      <th>502</th>\n",
              "      <td>0.04527</td>\n",
              "      <td>0.0</td>\n",
              "      <td>11.93</td>\n",
              "      <td>0</td>\n",
              "      <td>0.573</td>\n",
              "      <td>6.120</td>\n",
              "      <td>76.7</td>\n",
              "      <td>2.2875</td>\n",
              "      <td>1</td>\n",
              "      <td>273.0</td>\n",
              "      <td>21.0</td>\n",
              "      <td>396.90</td>\n",
              "      <td>9.08</td>\n",
              "      <td>20.6</td>\n",
              "    </tr>\n",
              "    <tr>\n",
              "      <th>503</th>\n",
              "      <td>0.06076</td>\n",
              "      <td>0.0</td>\n",
              "      <td>11.93</td>\n",
              "      <td>0</td>\n",
              "      <td>0.573</td>\n",
              "      <td>6.976</td>\n",
              "      <td>91.0</td>\n",
              "      <td>2.1675</td>\n",
              "      <td>1</td>\n",
              "      <td>273.0</td>\n",
              "      <td>21.0</td>\n",
              "      <td>396.90</td>\n",
              "      <td>5.64</td>\n",
              "      <td>23.9</td>\n",
              "    </tr>\n",
              "    <tr>\n",
              "      <th>504</th>\n",
              "      <td>0.10959</td>\n",
              "      <td>0.0</td>\n",
              "      <td>11.93</td>\n",
              "      <td>0</td>\n",
              "      <td>0.573</td>\n",
              "      <td>6.794</td>\n",
              "      <td>89.3</td>\n",
              "      <td>2.3889</td>\n",
              "      <td>1</td>\n",
              "      <td>273.0</td>\n",
              "      <td>21.0</td>\n",
              "      <td>393.45</td>\n",
              "      <td>6.48</td>\n",
              "      <td>22.0</td>\n",
              "    </tr>\n",
              "    <tr>\n",
              "      <th>505</th>\n",
              "      <td>0.04741</td>\n",
              "      <td>0.0</td>\n",
              "      <td>11.93</td>\n",
              "      <td>0</td>\n",
              "      <td>0.573</td>\n",
              "      <td>6.030</td>\n",
              "      <td>80.8</td>\n",
              "      <td>2.5050</td>\n",
              "      <td>1</td>\n",
              "      <td>273.0</td>\n",
              "      <td>21.0</td>\n",
              "      <td>396.90</td>\n",
              "      <td>7.88</td>\n",
              "      <td>11.9</td>\n",
              "    </tr>\n",
              "  </tbody>\n",
              "</table>\n",
              "</div>"
            ],
            "text/plain": [
              "        CRIM   ZN  INDUS  CHAS    NOX  ...    TAX  PTRATION       B  LSTAT  MEDV\n",
              "496  0.28960  0.0   9.69     0  0.585  ...  391.0      19.2  396.90  21.14  19.7\n",
              "497  0.26838  0.0   9.69     0  0.585  ...  391.0      19.2  396.90  14.10  18.3\n",
              "498  0.23912  0.0   9.69     0  0.585  ...  391.0      19.2  396.90  12.92  21.2\n",
              "499  0.17783  0.0   9.69     0  0.585  ...  391.0      19.2  395.77  15.10  17.5\n",
              "500  0.22438  0.0   9.69     0  0.585  ...  391.0      19.2  396.90  14.33  16.8\n",
              "501  0.06263  0.0  11.93     0  0.573  ...  273.0      21.0  391.99   9.67  22.4\n",
              "502  0.04527  0.0  11.93     0  0.573  ...  273.0      21.0  396.90   9.08  20.6\n",
              "503  0.06076  0.0  11.93     0  0.573  ...  273.0      21.0  396.90   5.64  23.9\n",
              "504  0.10959  0.0  11.93     0  0.573  ...  273.0      21.0  393.45   6.48  22.0\n",
              "505  0.04741  0.0  11.93     0  0.573  ...  273.0      21.0  396.90   7.88  11.9\n",
              "\n",
              "[10 rows x 14 columns]"
            ]
          },
          "metadata": {
            "tags": []
          },
          "execution_count": 5
        }
      ]
    },
    {
      "cell_type": "markdown",
      "metadata": {
        "id": "nf8QJRMeh910",
        "colab_type": "text"
      },
      "source": [
        "### Data processing (train/test split)"
      ]
    },
    {
      "cell_type": "code",
      "metadata": {
        "id": "Vd0uyKsFgyQ0",
        "colab_type": "code",
        "colab": {}
      },
      "source": [
        "# Split data into train/test\n",
        "# p = training data portion\n",
        "p=0.8\n",
        "trainDataset = dataset.sample(frac=p,random_state=0)\n",
        "testDataset = dataset.drop(trainDataset.index)"
      ],
      "execution_count": 0,
      "outputs": []
    },
    {
      "cell_type": "markdown",
      "metadata": {
        "id": "4vC8cz0chjL1",
        "colab_type": "text"
      },
      "source": [
        "## linear regression with one variable\n",
        "\n",
        "Here, we desire to model the relationship between the dependent variable and the independent variable. In the linear regression with one variable, *we only have **one** independent variable*.\n",
        "\n",
        "* Independent variable: 'RM'\n",
        "* Dependend varaible: 'MEDV'\n",
        "\n",
        "In a simple work, we want to **predict** the Median value of owner-occupied homes in $1000’s [target attribute] based on average number of rooms per dwelling (RM)."
      ]
    },
    {
      "cell_type": "markdown",
      "metadata": {
        "id": "KY0vmL_PhIPn",
        "colab_type": "text"
      },
      "source": [
        "### Plot dependecy to one variable (linear regression with one variable)\n",
        "\n",
        "Here we want to plot the MEDV against RM, i.e, visualize how MEDV is changed by changing RM. Basically we have $MEDV=f(RM)$ and we desire to estimate the function $f(.)$ using a linear regression.\n",
        "\n"
      ]
    },
    {
      "cell_type": "code",
      "metadata": {
        "id": "E_R3ADmzgmo0",
        "colab_type": "code",
        "outputId": "5983cd35-4f35-406a-df6d-a9a5d6954a7b",
        "colab": {
          "base_uri": "https://localhost:8080/",
          "height": 279
        }
      },
      "source": [
        "# Visual representation of training data\n",
        "import matplotlib.pyplot as plt\n",
        "fig, ax = plt.subplots()\n",
        "# With .pop() command, the associated columns are extracted.\n",
        "x = trainDataset['RM']\n",
        "y = trainDataset['MEDV']\n",
        "ax.scatter(x, y, edgecolors=(0, 0, 0))\n",
        "ax.set_xlabel('RM')\n",
        "ax.set_ylabel('MEDV')\n",
        "plt.show()"
      ],
      "execution_count": 7,
      "outputs": [
        {
          "output_type": "display_data",
          "data": {
            "image/png": "[encoded data removed]",
            "text/plain": [
              "<Figure size 432x288 with 1 Axes>"
            ]
          },
          "metadata": {
            "tags": []
          }
        }
      ]
    },
    {
      "cell_type": "markdown",
      "metadata": {
        "id": "M-EpBay_M3_X",
        "colab_type": "text"
      },
      "source": [
        "### Split train/test data and labels for linear regression for one variable experiments\n",
        "\n",
        "We can use two approach to access the columns:\n",
        "\n",
        "1. **Pop command:** It returns item and drops it from frame. After using trainDataset.pop('RM'), the 'RM' column does not exist in the trainDataset frame anymore!\n",
        "2. Using the **indexing with label**. Example trainDataset['RM']\n",
        "\n",
        "We use approach **(2)**."
      ]
    },
    {
      "cell_type": "code",
      "metadata": {
        "id": "dgOBhSaniDHx",
        "colab_type": "code",
        "colab": {}
      },
      "source": [
        "# Pop command return item and drop it from frame.\n",
        "# After using trainDataset.pop('RM'), the 'RM' column \n",
        "# does not exist in the trainDataset frame anymore!\n",
        "trainDataOne = trainDataset['RM']\n",
        "trainLabelOne = trainDataset['MEDV']\n",
        "testDataOne = testDataset['RM']\n",
        "testLabelOne = testDataset['MEDV']"
      ],
      "execution_count": 0,
      "outputs": []
    },
    {
      "cell_type": "markdown",
      "metadata": {
        "id": "9X6hRnkpRoPY",
        "colab_type": "text"
      },
      "source": [
        "### Data normalization/standardization\n",
        "\n",
        "*It is not needed for simple linear regression (linear regression with one variable).*\n",
        "\n",
        "1. **Standardization**: Standardizing the features around the center and 0 with a standard deviation of 1. Assume we have features that have different units. So just becasue of the scaling do not contribute equally to the analysis and create misleading result. Formula: $\\hat{X}=\\frac{X-\\mu}{\\sigma}$\n",
        "\n",
        "2. **Normalization**: Normalization aims to put the values of different features to a common scale (usually [0,1] or [-1,1]). This is used when features have different ranges but the same units. **Example**: Assume we have an RGB image. *Each channel has a different range but all channels have the same units: image pixel*! Formula: $\\hat{X}=\\frac{X-X_{min}}{X_{max}-X_{min}}$"
      ]
    },
    {
      "cell_type": "markdown",
      "metadata": {
        "id": "VXA8J28QWYMH",
        "colab_type": "text"
      },
      "source": [
        "### Create Model\n",
        "\n",
        "1. The architecture of the model\n",
        "2. Defining the optimizer\n",
        "3. Compile the model and return the graph"
      ]
    },
    {
      "cell_type": "code",
      "metadata": {
        "id": "okLiiirkWaot",
        "colab_type": "code",
        "colab": {
          "base_uri": "https://localhost:8080/",
          "height": 255
        },
        "outputId": "f6eb7131-91f0-4bf6-f011-21be976fbf85"
      },
      "source": [
        "\n",
        "model = keras.Sequential([\n",
        "      layers.Dense(128, activation='relu', input_shape=(1,)),\n",
        "      layers.Dense(128, activation='relu'),\n",
        "      layers.Dense(1)\n",
        "    ])\n",
        "\n",
        "optimizer = tf.keras.optimizers.Adam(\n",
        "    learning_rate=0.001, beta_1=0.9, beta_2=0.99, epsilon=1e-05, amsgrad=False,\n",
        "    name='Adam')\n",
        "  \n",
        "  # Check: https://www.tensorflow.org/api_docs/python/tf/keras/Model\n",
        "  # loss: String (name of objective function), objective function or tf.keras.losses.Loss instance. See tf.keras.losses.\n",
        "  # optimizer: String (name of optimizer) or optimizer instance. See tf.keras.optimizers.\n",
        "  # metrics: List of metrics to be evaluated by the model during training and testing\n",
        "model.compile(loss='mse',\n",
        "              optimizer=optimizer,\n",
        "              metrics=['mae', 'mse'])\n",
        "\n",
        "# Print the model summary\n",
        "model.summary()"
      ],
      "execution_count": 9,
      "outputs": [
        {
          "output_type": "stream",
          "text": [
            "Model: \"sequential\"\n",
            "_________________________________________________________________\n",
            "Layer (type)                 Output Shape              Param #   \n",
            "=================================================================\n",
            "dense (Dense)                (None, 128)               256       \n",
            "_________________________________________________________________\n",
            "dense_1 (Dense)              (None, 128)               16512     \n",
            "_________________________________________________________________\n",
            "dense_2 (Dense)              (None, 1)                 129       \n",
            "=================================================================\n",
            "Total params: 16,897\n",
            "Trainable params: 16,897\n",
            "Non-trainable params: 0\n",
            "_________________________________________________________________\n"
          ],
          "name": "stdout"
        }
      ]
    },
    {
      "cell_type": "markdown",
      "metadata": {
        "id": "6ny4wr5l3M_k",
        "colab_type": "text"
      },
      "source": [
        "### Training\n",
        "Fit the model to the data\n",
        "\n",
        "* n_epochs: number of epochs\n",
        "* validation_split: keep a portion of training data for unbiased validation\n",
        "* vebore: set to 0 as we want a short summary and not all the details!!\n",
        "* callbacks: A callback is a tool to customize the behavior of a the model during training, testing, etc."
      ]
    },
    {
      "cell_type": "code",
      "metadata": {
        "id": "YKMSaOXnXmOT",
        "colab_type": "code",
        "outputId": "6566b224-9a72-4dd9-89d2-0a6203011456",
        "colab": {
          "base_uri": "https://localhost:8080/",
          "height": 306
        }
      },
      "source": [
        "# A mechanism that stops training if the validation loss is not improving for more than n_idle_epochs.\n",
        "#See https://www.tensorflow.org/api_docs/python/tf/keras/callbacks/EarlyStopping for details.\n",
        "n_idle_epochs = 100\n",
        "earlyStopping = tf.keras.callbacks.EarlyStopping(monitor='val_loss', patience=n_idle_epochs, min_delta=0.1)\n",
        "\n",
        "n_epochs = 2000\n",
        "history = model.fit(\n",
        "  trainDataOne, trainLabelOne,\n",
        "  epochs=n_epochs, validation_split = 0.1, verbose=0,\n",
        "  callbacks=[earlyStopping,tfdocs.modeling.EpochDots()])"
      ],
      "execution_count": 10,
      "outputs": [
        {
          "output_type": "stream",
          "text": [
            "\n",
            "Epoch: 0, loss:545.0366,  mae:21.6368,  mse:545.0366,  val_loss:560.0960,  val_mae:21.3364,  val_mse:560.0959,  \n",
            "....................................................................................................\n",
            "Epoch: 100, loss:47.8348,  mae:4.8585,  mse:47.8348,  val_loss:87.8931,  val_mae:6.3770,  val_mse:87.8931,  \n",
            "....................................................................................................\n",
            "Epoch: 200, loss:38.6434,  mae:4.3475,  mse:38.6434,  val_loss:76.0311,  val_mae:5.3921,  val_mse:76.0311,  \n",
            "....................................................................................................\n",
            "Epoch: 300, loss:36.8273,  mae:4.1541,  mse:36.8273,  val_loss:71.5804,  val_mae:5.0611,  val_mse:71.5804,  \n",
            "....................................................................................................\n",
            "Epoch: 400, loss:36.1383,  mae:4.1833,  mse:36.1384,  val_loss:71.4148,  val_mae:5.0414,  val_mse:71.4148,  \n",
            "....................................................................................................\n",
            "Epoch: 500, loss:35.9182,  mae:4.0736,  mse:35.9182,  val_loss:72.4257,  val_mae:5.2146,  val_mse:72.4257,  \n",
            "....................................................................................................\n",
            "Epoch: 600, loss:35.7188,  mae:4.0312,  mse:35.7188,  val_loss:72.5561,  val_mae:5.2785,  val_mse:72.5561,  \n",
            "....................................................................................................\n",
            "Epoch: 700, loss:35.1094,  mae:4.1192,  mse:35.1094,  val_loss:70.7851,  val_mae:5.0850,  val_mse:70.7851,  \n",
            "...................................................."
          ],
          "name": "stdout"
        }
      ]
    },
    {
      "cell_type": "code",
      "metadata": {
        "id": "uVvegIVGXvbv",
        "colab_type": "code",
        "outputId": "ff65508b-7a2e-4d95-8023-cdc25c9dbc09",
        "colab": {
          "base_uri": "https://localhost:8080/",
          "height": 300
        }
      },
      "source": [
        "plotter = tfdocs.plots.HistoryPlotter(smoothing_std=2)\n",
        "plotter.plot({'': history}, metric = \"mae\")\n",
        "plt.ylim([2, 10])\n",
        "plt.ylabel('MEDV')"
      ],
      "execution_count": 11,
      "outputs": [
        {
          "output_type": "execute_result",
          "data": {
            "text/plain": [
              "Text(0, 0.5, 'MEDV')"
            ]
          },
          "metadata": {
            "tags": []
          },
          "execution_count": 11
        },
        {
          "output_type": "display_data",
          "data": {
            "image/png": "[encoded data removed]",
            "text/plain": [
              "<Figure size 432x288 with 1 Axes>"
            ]
          },
          "metadata": {
            "tags": []
          }
        }
      ]
    },
    {
      "cell_type": "code",
      "metadata": {
        "id": "wu3b5tPiZZTR",
        "colab_type": "code",
        "outputId": "86bff74d-f2fa-4a37-91ee-f88295272320",
        "colab": {
          "base_uri": "https://localhost:8080/",
          "height": 283
        }
      },
      "source": [
        "predictions = model.predict(testDataOne).flatten()\n",
        "a = plt.axes(aspect='equal')\n",
        "plt.scatter(predictions, testLabelOne)\n",
        "plt.xlabel('True Values [MPG]')\n",
        "plt.ylabel('Predictions [MPG]')\n",
        "lims = [0, 50]\n",
        "plt.xlim(lims)\n",
        "plt.ylim(lims)\n",
        "_ = plt.plot(lims, lims)"
      ],
      "execution_count": 12,
      "outputs": [
        {
          "output_type": "display_data",
          "data": {
            "image/png": "[encoded data removed]",
            "text/plain": [
              "<Figure size 432x288 with 1 Axes>"
            ]
          },
          "metadata": {
            "tags": []
          }
        }
      ]
    }
  ]
}